{
 "cells": [
  {
   "cell_type": "code",
   "execution_count": 1,
   "metadata": {},
   "outputs": [],
   "source": [
    "\"\"\"Help file to calculate errors and adjust the CSV data.\"\"\"\n",
    "\n",
    "import os\n",
    "\n",
    "# scipy libs\n",
    "import numpy as np\n",
    "import pandas as pd\n",
    "\n",
    "import pdb"
   ]
  },
  {
   "cell_type": "code",
   "execution_count": 2,
   "metadata": {},
   "outputs": [],
   "source": [
    "def latex_err_fmt(val, err, figures=1):\n",
    "    figures_adj = np.floor(np.log10(err)) - figures + 1\n",
    "    adj_factor = 10 ** figures_adj\n",
    "    \n",
    "    err = np.round(err / adj_factor)\n",
    "    val = np.round(val / adj_factor) * adj_factor\n",
    "    \n",
    "    return val, err\n",
    "\n"
   ]
  },
  {
   "cell_type": "code",
   "execution_count": 3,
   "metadata": {},
   "outputs": [],
   "source": [
    "def V_error(V, vertical_position=0, div=1):\n",
    "    \"\"\"Calculates the error for voltages.\"\"\"\n",
    "    err_percent = 0.3 / 100\n",
    "    V_adj = V + vertical_position\n",
    "    div_err = .2 * div / 1000\n",
    "    fix_err = 7 / 1000\n",
    "\n",
    "    return err_percent * V_adj + div_err + fix_err\n",
    "\n",
    "\n",
    "def t_error(t, div=None):\n",
    "    \"\"\"Error of time.\"\"\"\n",
    "    samples = len(t)\n",
    "\n",
    "    if not div:\n",
    "        div = (t[samples-1] - t[0]) / (samples - 1)\n",
    "\n",
    "    total_t = samples * div\n",
    "    err_frac = 50 / 1000000  # 50 ppm\n",
    "    \n",
    "    return np.zeros(samples) + total_t * err_frac\n",
    "\n"
   ]
  },
  {
   "cell_type": "code",
   "execution_count": 4,
   "metadata": {},
   "outputs": [
    {
     "name": "stdout",
     "output_type": "stream",
     "text": [
      "Done: supcrit2.csv\n",
      "Done: 310o.csv\n",
      "Done: quad_integ.csv\n",
      "Done: ramp_deriv.csv\n",
      "Done: quad_deriv.csv\n",
      "Done: ramp_integ.csv\n",
      "Done: supcrit.csv\n",
      "Done: sin_deriv.csv\n",
      "Done: sin_integ.csv\n",
      "Done: subcrit.csv\n",
      "Done: 2ko.csv\n",
      "Done: 50o.csv\n"
     ]
    }
   ],
   "source": [
    "path = \"dados/original/\"\n",
    "save_path = \"dados/\"\n",
    "\n",
    "name_changes = {\n",
    "    \"Tempo (s)\": \"t\",\n",
    "    \"V1 (V)\": \"V1\",\n",
    "    \"V2 (V)\": \"V2\"\n",
    "}\n",
    "\n",
    "horiz_pos = {\n",
    "    \"2ko\": 500,\n",
    "    \"310o\": 450,\n",
    "    \"50o\": 450,\n",
    "    \"quad_deriv\": 0,\n",
    "    \"quad_integ\": 900,\n",
    "    \"ramp_deriv\": 0, \n",
    "    \"ramp_integ\": 960,\n",
    "    \"sin_deriv\": 0,\n",
    "    \"sin_integ\": 900,\n",
    "    \"subcrit\": 500,\n",
    "    \"supcrit\": 500,\n",
    "    \"supcrit2\": 500\n",
    "}\n",
    "\n",
    "for file in os.listdir(path):\n",
    "    # get data and adjust it\n",
    "    data = pd.read_csv(path + file, decimal=',', float_precision=\"high\", dtype=np.longdouble)\n",
    "    data = data.rename(index=str, columns=name_changes)\n",
    "    \n",
    "    for key in \"t\", \"V1\", \"V2\":\n",
    "        data[key] = data[key] * 1000  # change to ms, mV\n",
    "\n",
    "    # error calculations\n",
    "    data[\"V1err\"] = V_error(data[\"V1\"], data[\"V1\"].min())\n",
    "    data[\"V2err\"] = V_error(data[\"V2\"], horiz_pos[file.replace(\".csv\", \"\")])\n",
    "    data[\"terr\"] = t_error(data[\"t\"])\n",
    "\n",
    "    # save new table for plotting\n",
    "    data.to_csv(save_path + file)\n",
    "    \n",
    "    # LATEX: off now\n",
    "    # # adjust error format for LaTeX's siunitx\n",
    "    # for col in (\"V1\", \"V2\", \"t\"):\n",
    "    #     data[col], data[col + \"err\"] = latex_err_fmt(data[col], data[col + \"err\"])\n",
    "    #\n",
    "    # print(data.to_latex())\n",
    "\n",
    "    print(\"Done:\", file)"
   ]
  },
  {
   "cell_type": "code",
   "execution_count": null,
   "metadata": {},
   "outputs": [],
   "source": []
  }
 ],
 "metadata": {
  "kernelspec": {
   "display_name": "Python 3",
   "language": "python",
   "name": "python3"
  },
  "language_info": {
   "codemirror_mode": {
    "name": "ipython",
    "version": 3
   },
   "file_extension": ".py",
   "mimetype": "text/x-python",
   "name": "python",
   "nbconvert_exporter": "python",
   "pygments_lexer": "ipython3",
   "version": "3.7.0"
  }
 },
 "nbformat": 4,
 "nbformat_minor": 2
}
